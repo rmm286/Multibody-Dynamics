{
 "cells": [
  {
   "cell_type": "markdown",
   "metadata": {},
   "source": [
    "# MAE 223 Final Exam\n",
    "#### Rayne Milner"
   ]
  },
  {
   "cell_type": "code",
   "execution_count": 1,
   "metadata": {},
   "outputs": [],
   "source": [
    "import numpy as np\n",
    "import sympy as sm\n",
    "import sympy.physics.mechanics as me\n",
    "me.init_vprinting()"
   ]
  },
  {
   "cell_type": "code",
   "execution_count": 1,
   "metadata": {},
   "outputs": [
    {
     "ename": "NameError",
     "evalue": "name 'me' is not defined",
     "output_type": "error",
     "traceback": [
      "\u001b[1;31m---------------------------------------------------------------------------\u001b[0m",
      "\u001b[1;31mNameError\u001b[0m                                 Traceback (most recent call last)",
      "\u001b[1;32m<ipython-input-1-38a166554544>\u001b[0m in \u001b[0;36m<module>\u001b[1;34m\u001b[0m\n\u001b[1;32m----> 1\u001b[1;33m \u001b[0mq1\u001b[0m\u001b[1;33m,\u001b[0m \u001b[0mq2\u001b[0m\u001b[1;33m,\u001b[0m \u001b[0mq3\u001b[0m \u001b[1;33m=\u001b[0m \u001b[0mme\u001b[0m\u001b[1;33m.\u001b[0m\u001b[0mdynamicsymbols\u001b[0m\u001b[1;33m(\u001b[0m\u001b[1;34m'q1:4'\u001b[0m\u001b[1;33m)\u001b[0m\u001b[1;33m\u001b[0m\u001b[1;33m\u001b[0m\u001b[0m\n\u001b[0m\u001b[0;32m      2\u001b[0m \u001b[0mu1\u001b[0m\u001b[1;33m,\u001b[0m \u001b[0mu2\u001b[0m\u001b[1;33m,\u001b[0m \u001b[0mu3\u001b[0m \u001b[1;33m=\u001b[0m \u001b[0mme\u001b[0m\u001b[1;33m.\u001b[0m\u001b[0mdynamicsymbols\u001b[0m\u001b[1;33m(\u001b[0m\u001b[1;34m'u1:4'\u001b[0m\u001b[1;33m)\u001b[0m\u001b[1;33m\u001b[0m\u001b[1;33m\u001b[0m\u001b[0m\n\u001b[0;32m      3\u001b[0m \u001b[0mt\u001b[0m \u001b[1;33m=\u001b[0m \u001b[0mme\u001b[0m\u001b[1;33m.\u001b[0m\u001b[0mdynamicsymbols\u001b[0m\u001b[1;33m.\u001b[0m\u001b[0m_t\u001b[0m\u001b[1;33m\u001b[0m\u001b[1;33m\u001b[0m\u001b[0m\n",
      "\u001b[1;31mNameError\u001b[0m: name 'me' is not defined"
     ]
    }
   ],
   "source": [
    "q1, q2, q3 = me.dynamicsymbols('q1:4')\n",
    "u1, u2, u3 = me.dynamicsymbols('u1:4')\n",
    "t = me.dynamicsymbols._t"
   ]
  },
  {
   "cell_type": "code",
   "execution_count": 3,
   "metadata": {},
   "outputs": [],
   "source": [
    "k, lA, lB, mA, mB, tB, wA, wB = sm.symbols('k, l_A, l_B, m_A, m_B, t_B, w_A, w_B')"
   ]
  },
  {
   "cell_type": "code",
   "execution_count": 4,
   "metadata": {},
   "outputs": [],
   "source": [
    "N = me.ReferenceFrame('N')\n",
    "A = me.ReferenceFrame('A')\n",
    "B = me.ReferenceFrame('B')"
   ]
  },
  {
   "cell_type": "code",
   "execution_count": 5,
   "metadata": {},
   "outputs": [],
   "source": [
    "A.orient(N, 'Axis', (q2, N.z))\n",
    "B.orient(A, 'Axis', (q3, A.z))\n",
    "A.set_ang_vel(N, u2*N.z)\n",
    "B.set_ang_vel(A, u3*A.z)"
   ]
  },
  {
   "cell_type": "code",
   "execution_count": 6,
   "metadata": {},
   "outputs": [],
   "source": [
    "PH = me.Point('PH')\n",
    "PA = me.Point('PA')\n",
    "PAo = me.Point('PAo')\n",
    "PAR = me.Point('PAR')\n",
    "PAL = me.Point('PAL')\n",
    "PB = me.Point('PB')\n",
    "PBo = me.Point('PBo')\n",
    "PBR = me.Point('PBR')#PBR\n",
    "PBL = me.Point('PBL')"
   ]
  },
  {
   "cell_type": "code",
   "execution_count": 7,
   "metadata": {},
   "outputs": [],
   "source": [
    "vHx = me.dynamicsymbols('vHx')\n",
    "vHy = me.dynamicsymbols('vHy')"
   ]
  },
  {
   "cell_type": "code",
   "execution_count": 8,
   "metadata": {},
   "outputs": [],
   "source": [
    "PH.set_vel(N, (vHx*N.x + vHy*N.y))"
   ]
  },
  {
   "cell_type": "code",
   "execution_count": 9,
   "metadata": {},
   "outputs": [],
   "source": [
    "pA = q1*N.y #connects PA to PH\n",
    "pAo = (lA/2)*A.x #connects PAo to PA\n",
    "pAR = lA*A.x + (wA/2)*-A.y #connects PAR to PA\n",
    "pAL = lA*A.x + (wA/2)*A.y #connects PAL to PA\n",
    "pB = lA*A.x #connects PA to PB\n",
    "pBo = (lB/2)*B.x #connects PBo to PB\n",
    "pBR = lB*B.x + (wB/2)*-B.y#connects PBR to PB\n",
    "pBL = lB*B.x + (wB/2)*B.y #connects PBL to PB\n",
    "\n",
    "PA.set_pos(PH, pA)\n",
    "PAo.set_pos(PA, pAo)\n",
    "PAR.set_pos(PA, pAR)\n",
    "PAL.set_pos(PA, pAL)\n",
    "\n",
    "PB.set_pos(PA, pB)\n",
    "PBo.set_pos(PB, pBo)\n",
    "PBR.set_pos(PB, pBR)\n",
    "PBL.set_pos(PB, pBL)"
   ]
  },
  {
   "cell_type": "code",
   "execution_count": 10,
   "metadata": {},
   "outputs": [
    {
     "data": {
      "image/png": "[encoded data removed]",
      "text/latex": [
       "$\\displaystyle vHx\\mathbf{\\hat{n}_x} + (u_{1} + vHy)\\mathbf{\\hat{n}_y} + l_{A} u_{2}\\mathbf{\\hat{a}_y} -  \\frac{w_{B} \\left(u_{2} + u_{3}\\right)}{2}\\mathbf{\\hat{b}_x} + l_{B} \\left(u_{2} + u_{3}\\right)\\mathbf{\\hat{b}_y}$"
      ],
      "text/plain": [
       "                                        -w_B⋅(u₂ + u₃)\n",
       "vHx n_x + (u₁ + vHy) n_y + l_A⋅u₂ a_y + ─────────────── b_x + l_B⋅(u₂ + u₃) b_\n",
       "                                               2\n",
       "\n",
       "\n",
       "y\n"
      ]
     },
     "execution_count": 10,
     "metadata": {},
     "output_type": "execute_result"
    }
   ],
   "source": [
    "PA.set_vel(N, PH.vel(N) + u1*N.y)\n",
    "PAo.v2pt_theory(PA, N, A)\n",
    "PAL.v2pt_theory(PA, N, A)\n",
    "PAR.v2pt_theory(PA, N, A)\n",
    "PB.v2pt_theory(PA, N, A)\n",
    "PBo.v2pt_theory(PB, N, B)\n",
    "PBR.v2pt_theory(PB, N, B)\n",
    "PBL.v2pt_theory(PB, N, B)"
   ]
  },
  {
   "cell_type": "markdown",
   "metadata": {},
   "source": [
    "# a\n",
    "Formulate velocities and angular velocities"
   ]
  },
  {
   "cell_type": "code",
   "execution_count": 11,
   "metadata": {},
   "outputs": [
    {
     "data": {
      "image/png": "[encoded data removed]",
      "text/latex": [
       "$\\displaystyle \\left[ \\left[ vHx\\mathbf{\\hat{n}_x} + vHy\\mathbf{\\hat{n}_y}, \\  vHx\\mathbf{\\hat{n}_x} + (u_{1} + vHy)\\mathbf{\\hat{n}_y}, \\  vHx\\mathbf{\\hat{n}_x} + (u_{1} + vHy)\\mathbf{\\hat{n}_y} + \\frac{l_{A} u_{2}}{2}\\mathbf{\\hat{a}_y}, \\  vHx\\mathbf{\\hat{n}_x} + (u_{1} + vHy)\\mathbf{\\hat{n}_y} -  \\frac{w_{A} u_{2}}{2}\\mathbf{\\hat{a}_x} + l_{A} u_{2}\\mathbf{\\hat{a}_y}, \\  vHx\\mathbf{\\hat{n}_x} + (u_{1} + vHy)\\mathbf{\\hat{n}_y} + l_{A} u_{2}\\mathbf{\\hat{a}_y}, \\  vHx\\mathbf{\\hat{n}_x} + (u_{1} + vHy)\\mathbf{\\hat{n}_y} + l_{A} u_{2}\\mathbf{\\hat{a}_y} + \\frac{l_{B} \\left(u_{2} + u_{3}\\right)}{2}\\mathbf{\\hat{b}_y}, \\  vHx\\mathbf{\\hat{n}_x} + (u_{1} + vHy)\\mathbf{\\hat{n}_y} + l_{A} u_{2}\\mathbf{\\hat{a}_y} -  \\frac{w_{B} \\left(u_{2} + u_{3}\\right)}{2}\\mathbf{\\hat{b}_x} + l_{B} \\left(u_{2} + u_{3}\\right)\\mathbf{\\hat{b}_y}, \\  vHx\\mathbf{\\hat{n}_x} + (u_{1} + vHy)\\mathbf{\\hat{n}_y} + l_{A} u_{2}\\mathbf{\\hat{a}_y} + \\frac{w_{B} \\left(u_{2} + u_{3}\\right)}{2}\\mathbf{\\hat{b}_x} + l_{B} \\left(u_{2} + u_{3}\\right)\\mathbf{\\hat{b}_y}\\right], \\  \\left[ u_{2}\\mathbf{\\hat{n}_z}, \\  u_{3}\\mathbf{\\hat{a}_z} + u_{2}\\mathbf{\\hat{n}_z}\\right]\\right]$"
      ],
      "text/plain": [
       "⎡⎡vHx n_x + vHy n_y, vHx n_x + (u₁ + vHy) n_y,                              l_\n",
       "⎢⎢                                             vHx n_x + (u₁ + vHy) n_y + ────\n",
       "⎢⎢                                                                            \n",
       "⎢⎢                                                                            \n",
       "⎢⎢                                                                            \n",
       "⎣⎣                                                                            \n",
       "\n",
       "A⋅u₂  ,                                     -w_A⋅u₂         , vHx n_x + (u₁ + \n",
       "── a_y  vHx n_x + (u₁ + vHy) n_y + ──────── a_x + l_A⋅u₂ a_y                  \n",
       "  2                                             2                             \n",
       "                                                                              \n",
       "                                                                              \n",
       "                                                                              \n",
       "\n",
       "vHy) n_y + l_A⋅u₂ a_y,                                           l_B⋅(u₂ + u₃)\n",
       "                       vHx n_x + (u₁ + vHy) n_y + l_A⋅u₂ a_y + ───────────── b\n",
       "                                                                          2   \n",
       "                                                                              \n",
       "                                                                              \n",
       "                                                                              \n",
       "\n",
       "  ,                                                     -w_B⋅(u₂ + u₃)        \n",
       "_y  vHx n_x + (u₁ + vHy) n_y + l_A⋅u₂ a_y + ─────────────── b_x + l_B⋅(u₂ + u₃\n",
       "                                                                  2           \n",
       "                                                                              \n",
       "                                                                              \n",
       "                                          y                                   \n",
       "\n",
       "    ,                                                     w_B⋅(u₂ + u₃)       \n",
       ") b_  vHx n_x + (u₁ + vHy) n_y + l_A⋅u₂ a_y + ───────────── b_x + l_B⋅(u₂ + u₃\n",
       "                                                                   2          \n",
       "                                                                              \n",
       "                                                                              \n",
       "                                                                              \n",
       "\n",
       "     ⎤, [u₂ n_z, u₃ a_z + u₂ n_z]⎤\n",
       ") b_y⎥                           ⎥\n",
       "     ⎥                           ⎥\n",
       "     ⎥                           ⎥\n",
       "     ⎥                           ⎥\n",
       "     ⎦                           ⎦"
      ]
     },
     "execution_count": 11,
     "metadata": {},
     "output_type": "execute_result"
    }
   ],
   "source": [
    "ang_vels = [A.ang_vel_in(N), B.ang_vel_in(N)]\n",
    "vels = [\n",
    " PH.vel(N),\n",
    " PA.vel(N),\n",
    " PAo.vel(N),\n",
    " PAL.vel(N),\n",
    " PB.vel(N),\n",
    " PBo.vel(N),\n",
    " PBL.vel(N),\n",
    " PBR.vel(N)]\n",
    "\n",
    "[vels, ang_vels]"
   ]
  },
  {
   "cell_type": "markdown",
   "metadata": {},
   "source": [
    "# B\n",
    "Introduce Motion Constraints"
   ]
  },
  {
   "cell_type": "code",
   "execution_count": 12,
   "metadata": {},
   "outputs": [
    {
     "data": {
      "image/png": "[encoded data removed]",
      "text/latex": [
       "$\\displaystyle \\left[ \\left\\{ u_{2} : \\frac{\\left(- u_{1} + vHx \\operatorname{tan}\\left(q_{2}\\right) - vHy\\right) \\operatorname{cos}\\left(q_{2}\\right)}{l_{A}}, \\  u_{3} : \\frac{\\left(l_{A} u_{1} \\operatorname{sin}\\left(q_{3}\\right) \\operatorname{tan}\\left(q_{2}\\right) + l_{A} vHx \\operatorname{sin}\\left(q_{3}\\right) + l_{A} vHy \\operatorname{sin}\\left(q_{3}\\right) \\operatorname{tan}\\left(q_{2}\\right) + l_{B} u_{1} - l_{B} vHx \\operatorname{tan}\\left(q_{2}\\right) + l_{B} vHy\\right) \\operatorname{cos}\\left(q_{2}\\right)}{l_{A} l_{B}}\\right\\}\\right]$"
      ],
      "text/plain": [
       "⎡⎧    (-u₁ + vHx⋅tan(q₂) - vHy)⋅cos(q₂)      (l_A⋅u₁⋅sin(q₃)⋅tan(q₂) + l_A⋅vHx\n",
       "⎢⎨u₂: ─────────────────────────────────, u₃: ─────────────────────────────────\n",
       "⎣⎩                   l_A                                                      \n",
       "\n",
       "⋅sin(q₃) + l_A⋅vHy⋅sin(q₃)⋅tan(q₂) + l_B⋅u₁ - l_B⋅vHx⋅tan(q₂) + l_B⋅vHy)⋅cos(q\n",
       "──────────────────────────────────────────────────────────────────────────────\n",
       "                    l_A⋅l_B                                                   \n",
       "\n",
       "₂)⎫⎤\n",
       "──⎬⎥\n",
       "  ⎭⎦"
      ]
     },
     "execution_count": 12,
     "metadata": {},
     "output_type": "execute_result"
    }
   ],
   "source": [
    "z1 = me.dot(PAL.vel(N),N.x)*sm.tan(q2) - me.dot(PAL.vel(N),N.y)\n",
    "z3 = me.dot(PBR.vel(N),A.x)*sm.tan(q3) - me.dot(PBR.vel(N),A.y)\n",
    "\n",
    "us = sm.solve([z1,z3], u2, u3, dict = True)\n",
    "\n",
    "us"
   ]
  },
  {
   "cell_type": "code",
   "execution_count": 13,
   "metadata": {},
   "outputs": [],
   "source": [
    "#This cell produces all the substitutions necessary to formulate final answers in terms of independent coordinates only\n",
    "#I know system of equations is trivial, but subs is hard to deal with so I am doing it like this.\n",
    "\n",
    "gs1 = sm.Eq(u1, q1.diff(t))\n",
    "gs2 = sm.Eq(u2, q2.diff(t))\n",
    "gs3 = sm.Eq(u3, q3.diff(t))\n",
    "[gs1,gs2,gs3]\n",
    "\n",
    "qdots = sm.solve([gs1, gs2, gs3], q1.diff(), q2.diff(), q3.diff(), dict = True)\n",
    "udots = {ud.diff(t): v.diff(t) for ud, v in us[0].items()} # for later substitution"
   ]
  },
  {
   "cell_type": "markdown",
   "metadata": {},
   "source": [
    "# C\n",
    "Partial Velocities"
   ]
  },
  {
   "cell_type": "code",
   "execution_count": 14,
   "metadata": {},
   "outputs": [
    {
     "data": {
      "image/png": "[encoded data removed]",
      "text/latex": [
       "$\\displaystyle \\left[ \\mathbf{\\hat{n}_y} -  \\frac{\\operatorname{cos}\\left(q_{2}\\right)}{2}\\mathbf{\\hat{a}_y}, \\  \\mathbf{\\hat{n}_y} -  \\operatorname{cos}\\left(q_{2}\\right)\\mathbf{\\hat{a}_y} + \\frac{l_{B} \\left(- \\frac{\\operatorname{cos}\\left(q_{2}\\right)}{l_{A}} + \\frac{\\left(l_{A} \\operatorname{sin}\\left(q_{3}\\right) \\operatorname{tan}\\left(q_{2}\\right) + l_{B}\\right) \\operatorname{cos}\\left(q_{2}\\right)}{l_{A} l_{B}}\\right)}{2}\\mathbf{\\hat{b}_y}, \\  \\mathbf{\\hat{n}_y}\\right]$"
      ],
      "text/plain": [
       "⎡         -cos(q₂)  ,                            ⎛  cos(q₂)   (l_A⋅sin(q₃)⋅tan\n",
       "⎢n_y + ───────── a_y                         l_B⋅⎜- ─────── + ────────────────\n",
       "⎢              2                                 ⎝    l_A                   l_\n",
       "⎢                     n_y + -cos(q₂) a_y + ───────────────────────────────────\n",
       "⎣                                                                             \n",
       "\n",
       "(q₂) + l_B)⋅cos(q₂)⎞  , n_y⎤\n",
       "───────────────────⎟       ⎥\n",
       "A⋅l_B              ⎠       ⎥\n",
       "────────────────── b_y     ⎥\n",
       "      2                    ⎦"
      ]
     },
     "execution_count": 14,
     "metadata": {},
     "output_type": "execute_result"
    }
   ],
   "source": [
    "#Holonomic Partial Velocities\n",
    "[[PAo.vel(N).diff(ur, N) for ur in [u1, u2, u3]],\n",
    "[PBo.vel(N).diff(ur, N) for ur in [u1, u2, u3]]]\n",
    "#NonHolonomic Partial Velocities\n",
    "PVs = [(PAo.vel(N).subs({u2: (us[0][u2]), u3: (us[0][u3])})).diff(u1,N),\n",
    "       (PBo.vel(N).subs({u2: (us[0][u2]), u3: (us[0][u3])})).diff(u1,N),\n",
    "       (PA.vel(N).subs({u2: (us[0][u2]), u3: (us[0][u3])})).diff(u1,N)]\n",
    "PVs"
   ]
  },
  {
   "cell_type": "code",
   "execution_count": 15,
   "metadata": {},
   "outputs": [
    {
     "data": {
      "image/png": "[encoded data removed]",
      "text/latex": [
       "$\\displaystyle \\left[ -  \\frac{\\operatorname{cos}\\left(q_{2}\\right)}{l_{A}}\\mathbf{\\hat{n}_z}, \\  \\frac{\\left(l_{A} \\operatorname{sin}\\left(q_{3}\\right) \\operatorname{tan}\\left(q_{2}\\right) + l_{B}\\right) \\operatorname{cos}\\left(q_{2}\\right)}{l_{A} l_{B}}\\mathbf{\\hat{a}_z} -  \\frac{\\operatorname{cos}\\left(q_{2}\\right)}{l_{A}}\\mathbf{\\hat{n}_z}\\right]$"
      ],
      "text/plain": [
       "⎡   -cos(q₂)  ,    (l_A⋅sin(q₃)⋅tan(q₂) + l_B)⋅cos(q₂)       -cos(q₂)  ⎤\n",
       "⎢───────── n_z  ─────────────────────────────────── a_z + ───────── n_z⎥\n",
       "⎣       l_A                       l_A⋅l_B                        l_A   ⎦"
      ]
     },
     "execution_count": 15,
     "metadata": {},
     "output_type": "execute_result"
    }
   ],
   "source": [
    "#Holnomic Partial Angular Velocites\n",
    "[[A.ang_vel_in(N).diff(ur,N) for ur in [u1, u2, u3]],\n",
    "[B.ang_vel_in(N).diff(ur,N) for ur in [u1, u2, u3]]]\n",
    "#NonHolonomic Partial Velocities\n",
    "PAVs = [(A.ang_vel_in(N).subs(udots).subs(us[0]).subs(qdots[0])).diff(u1,N),\n",
    "        (B.ang_vel_in(N).subs(udots).subs(us[0]).subs(qdots[0])).diff(u1,N)]\n",
    "PAVs"
   ]
  },
  {
   "cell_type": "markdown",
   "metadata": {},
   "source": [
    "# D\n",
    "Accelerations"
   ]
  },
  {
   "cell_type": "code",
   "execution_count": 16,
   "metadata": {},
   "outputs": [
    {
     "data": {
      "image/png": "[encoded data removed]",
      "text/latex": [
       "$\\displaystyle \\left[ \\dot{u}_{2}\\mathbf{\\hat{n}_z}, \\  \\dot{u}_{3}\\mathbf{\\hat{a}_z} + \\dot{u}_{2}\\mathbf{\\hat{n}_z}\\right]$"
      ],
      "text/plain": [
       "[u₂̇ n_z, u₃̇ a_z + u₂̇ n_z]"
      ]
     },
     "execution_count": 16,
     "metadata": {},
     "output_type": "execute_result"
    }
   ],
   "source": [
    "alpha_A_N = A.ang_acc_in(N).simplify()\n",
    "alpha_B_N = B.ang_acc_in(N).simplify()\n",
    "\n",
    "ang_accs = [alpha_A_N, alpha_B_N]\n",
    "\n",
    "ang_accs_subbed = [alpha_A_N.subs(udots).subs(us[0]).subs(qdots[0]),\n",
    "                   alpha_B_N.subs(udots).subs(us[0]).subs(qdots[0])]\n",
    "ang_accs"
   ]
  },
  {
   "cell_type": "code",
   "execution_count": 17,
   "metadata": {},
   "outputs": [
    {
     "data": {
      "image/png": "[encoded data removed]",
      "text/latex": [
       "$\\displaystyle \\left[ \\dot{vHx}\\mathbf{\\hat{n}_x} + \\dot{vHy}\\mathbf{\\hat{n}_y}, \\  \\dot{vHx}\\mathbf{\\hat{n}_x} + (\\dot{u}_{1} + \\dot{vHy})\\mathbf{\\hat{n}_y} -  \\frac{l_{A} u^{2}_{2}}{2}\\mathbf{\\hat{a}_x} + \\frac{l_{A} \\dot{u}_{2}}{2}\\mathbf{\\hat{a}_y}, \\  \\dot{vHx}\\mathbf{\\hat{n}_x} + (\\dot{u}_{1} + \\dot{vHy})\\mathbf{\\hat{n}_y} -  l_{A} u^{2}_{2}\\mathbf{\\hat{a}_x} + l_{A} \\dot{u}_{2}\\mathbf{\\hat{a}_y} -  \\frac{l_{B} \\left(u_{2} + u_{3}\\right)^{2}}{2}\\mathbf{\\hat{b}_x} + \\frac{l_{B} \\left(\\dot{u}_{2} + \\dot{u}_{3}\\right)}{2}\\mathbf{\\hat{b}_y}\\right]$"
      ],
      "text/plain": [
       "⎡vḢx n_x + vḢy n_y,                                                2        \n",
       "⎢                                                     -l_A⋅u₂         l_A⋅u₂̇ \n",
       "⎢                     vḢx n_x + (u₁̇ + vḢy) n_y + ───────── a_x + ─────── a_\n",
       "⎢                                                           2              2  \n",
       "⎢                                                                             \n",
       "⎢                                                                             \n",
       "⎢                                                                             \n",
       "⎢                                                                             \n",
       "⎣                                                                             \n",
       "\n",
       " ,                                                                            \n",
       "                                          2                     -l_B⋅(u₂ + u₃)\n",
       "y  vḢx n_x + (u₁̇ + vḢy) n_y + -l_A⋅u₂  a_x + l_A⋅u₂̇ a_y + ────────────────\n",
       "                                                                          2   \n",
       "                                                                              \n",
       "                                                                              \n",
       "                                    l_B⋅(u₂̇ + u₃̇)                           \n",
       "                              x + ─────────────── b_y                         \n",
       "                                               2                              \n",
       "\n",
       "2  ⎤\n",
       "   ⎥\n",
       " b_⎥\n",
       "   ⎥\n",
       "   ⎥\n",
       "   ⎥\n",
       "   ⎥\n",
       "   ⎥\n",
       "   ⎦"
      ]
     },
     "execution_count": 17,
     "metadata": {},
     "output_type": "execute_result"
    }
   ],
   "source": [
    "a_PH_N = PH.acc(N)\n",
    "a_PAo_N = PAo.acc(N)\n",
    "a_PBo_N = PBo.acc(N)\n",
    "\n",
    "accs = [a_PH_N, a_PAo_N, a_PBo_N]\n",
    "\n",
    "accs_subbed=[\n",
    " a_PH_N.subs(udots).subs(udots).subs(us[0]).subs(qdots[0]),\n",
    " a_PAo_N.subs(udots).subs(udots).subs(us[0]).subs(qdots[0]),\n",
    " a_PBo_N.subs(udots).subs(udots).subs(us[0]).subs(qdots[0])]\n",
    "\n",
    "accs"
   ]
  },
  {
   "cell_type": "markdown",
   "metadata": {},
   "source": [
    "# e \n",
    "Contributing Force and Torque Vectors"
   ]
  },
  {
   "cell_type": "code",
   "execution_count": 18,
   "metadata": {},
   "outputs": [],
   "source": [
    "RA = k*q1*-N.y # applied at PA"
   ]
  },
  {
   "cell_type": "markdown",
   "metadata": {},
   "source": [
    "# f \n",
    "Non-Holonomic Generalized Active Forces"
   ]
  },
  {
   "cell_type": "code",
   "execution_count": 19,
   "metadata": {},
   "outputs": [
    {
     "data": {
      "image/png": "[encoded data removed]",
      "text/latex": [
       "$\\displaystyle - k q_{1}$"
      ],
      "text/plain": [
       "-k⋅q₁"
      ]
     },
     "execution_count": 19,
     "metadata": {},
     "output_type": "execute_result"
    }
   ],
   "source": [
    "Fr = PVs[2].dot(RA)\n",
    "\n",
    "Fr"
   ]
  },
  {
   "cell_type": "markdown",
   "metadata": {},
   "source": [
    "# g \n",
    "Central Inertia Dyadics"
   ]
  },
  {
   "cell_type": "code",
   "execution_count": 20,
   "metadata": {},
   "outputs": [
    {
     "data": {
      "image/png": "[encoded data removed]",
      "text/latex": [
       "$\\displaystyle 0.0833333333333333 m_{A} \\left(l_{A}^{2} + w_{A}^{2}\\right)\\mathbf{\\hat{a}_z}\\otimes \\mathbf{\\hat{a}_z}$"
      ],
      "text/plain": [
       "                       ⎛   2      2⎞\n",
       "0.0833333333333333⋅m_A⋅⎝l_A  + w_A ⎠ a_z⊗a_z"
      ]
     },
     "execution_count": 20,
     "metadata": {},
     "output_type": "execute_result"
    }
   ],
   "source": [
    "IAo = (1/12)*mA*(lA**2+wA**2)\n",
    "IA = me.inertia(A, 0, 0, IAo)\n",
    "IA"
   ]
  },
  {
   "cell_type": "code",
   "execution_count": 21,
   "metadata": {},
   "outputs": [
    {
     "data": {
      "image/png": "[encoded data removed]",
      "text/latex": [
       "$\\displaystyle (\\frac{l_{B}^{2} m_{B}}{24} + 0.0138888888888889 m_{B} w_{B}^{2} + 0.0694444444444444 m_{B} \\left(l_{B}^{2} + t_{B}^{2}\\right))\\mathbf{\\hat{b}_z}\\otimes \\mathbf{\\hat{b}_z}$"
      ],
      "text/plain": [
       "⎛   2                                                                         ⎞\n",
       "⎜l_B ⋅m_B                             2                          ⎛   2      2⎞⎟\n",
       "⎜──────── + 0.0138888888888889⋅m_B⋅w_B  + 0.0694444444444444⋅m_B⋅⎝l_B  + t_B ⎠⎟\n",
       "⎝   24                                                                        ⎠ b_z⊗b_z"
      ]
     },
     "execution_count": 21,
     "metadata": {},
     "output_type": "execute_result"
    }
   ],
   "source": [
    "IBo = (1/12)*(5/6)*mB*(lB**2+tB**2)+((1/12)*(mB/6)*wB**2 + (mB/6)*(lB/2)**2) #inertia of the trailer + (inertia of rod + PAT term)\n",
    "IB = me.inertia(B, 0, 0, IBo)\n",
    "IB"
   ]
  },
  {
   "cell_type": "markdown",
   "metadata": {},
   "source": [
    "# h\n",
    "non-holonomic generalized inertia forces"
   ]
  },
  {
   "cell_type": "code",
   "execution_count": 22,
   "metadata": {},
   "outputs": [
    {
     "data": {
      "image/png": "[encoded data removed]",
      "text/latex": [
       "$\\displaystyle \\left\\{q_{2}, q_{3}, u_{1}, u_{2}, u_{3}, vHx, vHy, \\dot{u}_{1}, \\dot{vHx}, \\dot{vHy}\\right\\}$"
      ],
      "text/plain": [
       "{q₂, q₃, u₁, u₂, u₃, vHx, vHy, u₁̇, vḢx, vḢy}"
      ]
     },
     "execution_count": 22,
     "metadata": {},
     "output_type": "execute_result"
    }
   ],
   "source": [
    "Frstr = PVs[0].dot(-mA*accs_subbed[1])+PVs[0].dot(-mB*accs_subbed[2])+PAVs[0].dot(-ang_accs_subbed[0].dot(IA)+ang_vels[0].cross(IA.dot(ang_vels[0])))+PAVs[1].dot(-ang_accs_subbed[1].dot(IB)+ang_vels[1].cross(IB.dot(ang_vels[1])))\n",
    "\n",
    "me.find_dynamicsymbols(Frstr)"
   ]
  },
  {
   "cell_type": "markdown",
   "metadata": {},
   "source": [
    "# i\n",
    "Formulate Kane's Equations"
   ]
  },
  {
   "cell_type": "code",
   "execution_count": 23,
   "metadata": {},
   "outputs": [
    {
     "data": {
      "image/png": "[encoded data removed]",
      "text/latex": [
       "$\\displaystyle \\left\\{q_{1}, q_{2}, q_{3}, u_{1}, vHx, vHy, \\dot{u}_{1}, \\dot{vHx}, \\dot{vHy}\\right\\}$"
      ],
      "text/plain": [
       "{q₁, q₂, q₃, u₁, vHx, vHy, u₁̇, vḢx, vḢy}"
      ]
     },
     "execution_count": 23,
     "metadata": {},
     "output_type": "execute_result"
    }
   ],
   "source": [
    "f = Fr + Frstr\n",
    "f = f.subs(udots).subs(us[0]).subs(qdots[0])\n",
    "me.find_dynamicsymbols(f)"
   ]
  },
  {
   "cell_type": "code",
   "execution_count": 24,
   "metadata": {},
   "outputs": [
    {
     "data": {
      "image/png": "[encoded data removed]",
      "text/latex": [
       "$\\displaystyle \\left\\{k, l_{A}, l_{B}, m_{A}, m_{B}, t, t_{B}, w_{A}, w_{B}\\right\\}$"
      ],
      "text/plain": [
       "{k, l_A, l_B, m_A, m_B, t, t_B, w_A, w_B}"
      ]
     },
     "execution_count": 24,
     "metadata": {},
     "output_type": "execute_result"
    }
   ],
   "source": [
    "f.free_symbols"
   ]
  },
  {
   "cell_type": "code",
   "execution_count": 25,
   "metadata": {},
   "outputs": [],
   "source": [
    "u1_solved = sm.solve(f, u1.diff())"
   ]
  },
  {
   "cell_type": "code",
   "execution_count": 26,
   "metadata": {},
   "outputs": [],
   "source": [
    "#u1_solved\n",
    "#it lives"
   ]
  },
  {
   "cell_type": "code",
   "execution_count": 27,
   "metadata": {},
   "outputs": [],
   "source": [
    "eval_u1 = sm.lambdify((k, lA, lB, mA, mB, tB, wA, wB, q1, q2, q3, u1, vHx, vHy, vHx.diff(t), vHy.diff(t)), u1_solved)"
   ]
  },
  {
   "cell_type": "code",
   "execution_count": 28,
   "metadata": {},
   "outputs": [
    {
     "data": {
      "image/png": "[encoded data removed]",
      "text/latex": [
       "$\\displaystyle \\left[ -15.083705958450825\\right]$"
      ],
      "text/plain": [
       "[-15.083705958450825]"
      ]
     },
     "execution_count": 28,
     "metadata": {},
     "output_type": "execute_result"
    }
   ],
   "source": [
    "eval_u1(1000, 4.0, 6.0, 100, 75.0, 0.25, 0.75, 0.6, 0.005, ((3.14159265358979323846)/20), ((3.14159265358979323846)/30), 0.6, -15, 2, 0.02, 0.001)"
   ]
  },
  {
   "cell_type": "code",
   "execution_count": null,
   "metadata": {},
   "outputs": [],
   "source": []
  }
 ],
 "metadata": {
  "kernelspec": {
   "display_name": "Python 3",
   "language": "python",
   "name": "python3"
  },
  "language_info": {
   "codemirror_mode": {
    "name": "ipython",
    "version": 3
   },
   "file_extension": ".py",
   "mimetype": "text/x-python",
   "name": "python",
   "nbconvert_exporter": "python",
   "pygments_lexer": "ipython3",
   "version": "3.7.3"
  }
 },
 "nbformat": 4,
 "nbformat_minor": 2
}
